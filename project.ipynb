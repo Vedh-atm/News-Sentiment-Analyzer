{
 "cells": [
  {
   "cell_type": "markdown",
   "id": "1244515d",
   "metadata": {},
   "source": [
    "## Fetch News"
   ]
  },
  {
   "cell_type": "code",
   "execution_count": 1,
   "id": "d4233b4b-d972-4f50-abe9-220bd9ce4aa3",
   "metadata": {},
   "outputs": [
    {
     "name": "stderr",
     "output_type": "stream",
     "text": [
      "C:\\Users\\iamve\\AppData\\Local\\Programs\\Python\\Python39\\lib\\site-packages\\fuzzywuzzy\\fuzz.py:11: UserWarning: Using slow pure-python SequenceMatcher. Install python-Levenshtein to remove this warning\n",
      "  warnings.warn('Using slow pure-python SequenceMatcher. Install python-Levenshtein to remove this warning')\n"
     ]
    },
    {
     "name": "stdout",
     "output_type": "stream",
     "text": [
      "News for Health:\n",
      "Title: Leprosy May Be Endemic in Central Florida, Scientists Report - The New York Times\n",
      "Link: https://news.google.com/rss/articles/CBMiPmh0dHBzOi8vd3d3Lm55dGltZXMuY29tLzIwMjMvMDgvMDIvaGVhbHRoL2xlcHJvc3ktZmxvcmlkYS5odG1s0gEA?oc=5\n",
      "\n",
      "News for Science:\n",
      "Title: NASA says it detected a signal from Voyager 2 spacecraft - NPR\n",
      "Link: https://news.google.com/rss/articles/CBMiS2h0dHBzOi8vd3d3Lm5wci5vcmcvMjAyMy8wOC8wMi8xMTkxMzQxMDM1L25hc2Etdm95YWdlci0yLXNwYWNlY3JhZnQtY29udGFjdNIBAA?oc=5\n",
      "\n",
      "News for Technology:\n",
      "Title: The Galaxy Z Flip 5's cover screen software beats Motorola's in every way but one - The Verge\n",
      "Link: https://news.google.com/rss/articles/CBMifmh0dHBzOi8vd3d3LnRoZXZlcmdlLmNvbS8yMzgxNTkxNy9zYW1zdW5nLWdhbGF4eS16LWZsaXAtNS1tb3Rvcm9sYS1yYXpyLXBsdXMtY292ZXItc2NyZWVuLXdpZGdldHMtYXBwcy1jb21wYXJpc29uLWhlYWQtdG8taGVhZNIBAA?oc=5\n",
      "\n",
      "News for Politics:\n",
      "Title: Carli Lloyd walks back criticism of USWNT after backlash - The Guardian\n",
      "Link: https://news.google.com/rss/articles/CBMiZWh0dHBzOi8vd3d3LnRoZWd1YXJkaWFuLmNvbS9mb290YmFsbC8yMDIzL2F1Zy8wMi9jYXJsaS1sbG95ZC13YWxrcy1iYWNrLXVzd250LWNyaXRpY2lzbS1mb3gtd29ybGQtY3Vw0gEA?oc=5\n",
      "\n"
     ]
    }
   ],
   "source": [
    "from gnewsclient import gnewsclient\n",
    "location = 'United States'\n",
    "topics = ['Health', 'Science', 'Technology','Politics']\n",
    "max_results = 1\n",
    "for topic in topics:\n",
    "    client = gnewsclient.NewsClient(language='english', location=location, topic=topic, max_results=max_results)\n",
    "    news_list = client.get_news()\n",
    "    print(f\"News for {topic}:\")\n",
    "    for item in news_list:\n",
    "        print(\"Title:\", item['title'])\n",
    "        print(\"Link:\", item['link'])\n",
    "        print(\"\")"
   ]
  },
  {
   "cell_type": "markdown",
   "id": "6b20f9b6",
   "metadata": {},
   "source": [
    "## BACKEND CODE "
   ]
  },
  {
   "cell_type": "code",
   "execution_count": 2,
   "id": "8b16f1b0-9717-4c35-8a02-57d56ff2656a",
   "metadata": {},
   "outputs": [
    {
     "name": "stdout",
     "output_type": "stream",
     "text": [
      "  sentiment                                       News Heading\n",
      "0   neutral  According to Gran , the company has no plans t...\n",
      "1   neutral  Technopolis plans to develop in stages an area...\n",
      "2  negative  The international electronic industry company ...\n",
      "3  positive  With the new production plant the company woul...\n",
      "4  positive  According to the company 's updated strategy f...\n",
      "(4846, 2)\n",
      "(4846, 2)\n"
     ]
    },
    {
     "data": {
      "text/html": [
       "<div>\n",
       "<style scoped>\n",
       "    .dataframe tbody tr th:only-of-type {\n",
       "        vertical-align: middle;\n",
       "    }\n",
       "\n",
       "    .dataframe tbody tr th {\n",
       "        vertical-align: top;\n",
       "    }\n",
       "\n",
       "    .dataframe thead th {\n",
       "        text-align: right;\n",
       "    }\n",
       "</style>\n",
       "<table border=\"1\" class=\"dataframe\">\n",
       "  <thead>\n",
       "    <tr style=\"text-align: right;\">\n",
       "      <th></th>\n",
       "      <th>sentiment</th>\n",
       "      <th>News Heading</th>\n",
       "    </tr>\n",
       "  </thead>\n",
       "  <tbody>\n",
       "    <tr>\n",
       "      <th>0</th>\n",
       "      <td>neutral</td>\n",
       "      <td>According to Gran , the company has no plans t...</td>\n",
       "    </tr>\n",
       "    <tr>\n",
       "      <th>1</th>\n",
       "      <td>neutral</td>\n",
       "      <td>Technopolis plans to develop in stages an area...</td>\n",
       "    </tr>\n",
       "    <tr>\n",
       "      <th>2</th>\n",
       "      <td>negative</td>\n",
       "      <td>The international electronic industry company ...</td>\n",
       "    </tr>\n",
       "    <tr>\n",
       "      <th>3</th>\n",
       "      <td>positive</td>\n",
       "      <td>With the new production plant the company woul...</td>\n",
       "    </tr>\n",
       "    <tr>\n",
       "      <th>4</th>\n",
       "      <td>positive</td>\n",
       "      <td>According to the company 's updated strategy f...</td>\n",
       "    </tr>\n",
       "  </tbody>\n",
       "</table>\n",
       "</div>"
      ],
      "text/plain": [
       "  sentiment                                       News Heading\n",
       "0   neutral  According to Gran , the company has no plans t...\n",
       "1   neutral  Technopolis plans to develop in stages an area...\n",
       "2  negative  The international electronic industry company ...\n",
       "3  positive  With the new production plant the company woul...\n",
       "4  positive  According to the company 's updated strategy f..."
      ]
     },
     "execution_count": 2,
     "metadata": {},
     "output_type": "execute_result"
    }
   ],
   "source": [
    "import pandas as pd\n",
    "\n",
    "# Path should be according to youe system\n",
    "df = pd.read_csv(\"C:/Users/iamve/Downloads/code/archive/all-data.csv\", encoding='latin-1',names=['sentiment','News Heading'])\n",
    "print(df.head())\n",
    "print(df.shape)\n",
    "df.dropna(inplace=True)\n",
    "print(df.shape)\n",
    "df.head()"
   ]
  },
  {
   "cell_type": "code",
   "execution_count": 3,
   "id": "9d76d226-cda4-4c97-8b73-4e81c729c303",
   "metadata": {},
   "outputs": [
    {
     "name": "stdout",
     "output_type": "stream",
     "text": [
      "Accuracy: 0.6938144329896907\n",
      "Classification Report:\n",
      "               precision    recall  f1-score   support\n",
      "\n",
      "    negative       0.53      0.54      0.53       110\n",
      "     neutral       0.75      0.82      0.78       571\n",
      "    positive       0.62      0.51      0.56       289\n",
      "\n",
      "    accuracy                           0.69       970\n",
      "   macro avg       0.63      0.62      0.62       970\n",
      "weighted avg       0.69      0.69      0.69       970\n",
      "\n",
      "Predicted Sentiment: neutral\n"
     ]
    }
   ],
   "source": [
    "import pandas as pd\n",
    "from sklearn.model_selection import train_test_split\n",
    "from sklearn.feature_extraction.text import TfidfVectorizer\n",
    "from sklearn.metrics import accuracy_score, classification_report\n",
    "from sklearn.tree import DecisionTreeClassifier\n",
    "# Split the data into training and testing sets\n",
    "X = df['News Heading']  # Input features (news headings)\n",
    "y = df['sentiment']     # Target variable (sentiment labels)\n",
    "\n",
    "X_train, X_test, y_train, y_test = train_test_split(X, y, test_size=0.2, random_state=42)\n",
    "\n",
    "# Convert the text data into numerical features using TF-IDF Vectorizer\n",
    "vectorizer = TfidfVectorizer()\n",
    "X_train_vectors = vectorizer.fit_transform(X_train)\n",
    "X_test_vectors = vectorizer.transform(X_test)\n",
    "\n",
    "# Train the model (Decision Tree classifier)\n",
    "model = DecisionTreeClassifier()\n",
    "model.fit(X_train_vectors, y_train)\n",
    "\n",
    "# Make predictions on the test set\n",
    "y_pred = model.predict(X_test_vectors)\n",
    "\n",
    "# Evaluate the model\n",
    "accuracy = accuracy_score(y_test, y_pred)\n",
    "report = classification_report(y_test, y_pred)\n",
    "\n",
    "print(f\"Accuracy: {accuracy}\")\n",
    "print(\"Classification Report:\\n\", report)\n",
    "\n",
    "# Single news heading for prediction\n",
    "single_news_heading = \"SpaceX scrubs Falcon Heavy launch Wednesday from Kennedy Space Center - Florida Today\"\n",
    "\n",
    "\n",
    "# Convert the text into numerical features using TF-IDF Vectorizer\n",
    "numerical_vector = vectorizer.transform([single_news_heading])\n",
    "\n",
    "# Make the prediction using the trained Decision Tree classifier\n",
    "predicted_sentiment = model.predict(numerical_vector)\n",
    "\n",
    "print(f\"Predicted Sentiment: {predicted_sentiment[0]}\")"
   ]
  },
  {
   "cell_type": "markdown",
   "id": "833fb38a",
   "metadata": {},
   "source": [
    "## GUI USING TKINTER (FRONTEND CODE)"
   ]
  },
  {
   "cell_type": "code",
   "execution_count": 4,
   "id": "a209dd19-0bc7-4619-82be-08c3f297f5cc",
   "metadata": {},
   "outputs": [],
   "source": [
    "# Function to perform sentiment analysis on a given headline\n",
    "def analyze_sentiment():\n",
    "    single_news_heading = entry_var.get()\n",
    "    numerical_vector = vectorizer.transform([single_news_heading])\n",
    "    predicted_sentiment = model.predict(numerical_vector)\n",
    "    result_label.config(text=f\"Predicted Sentiment: {predicted_sentiment[0]}\")\n",
    "\n",
    "import tkinter as tk\n",
    "from tkinter import ttk\n",
    "# Set up the GUI\n",
    "root = tk.Tk()\n",
    "root.title(\"News Sentiment Analysis System\")\n",
    "root.geometry(\"1000x650\")\n",
    "\n",
    "# Add relevant picture (you can replace the path with the actual image)\n",
    "# Replace 'path_to_picture.png' with the path to your image file.\n",
    "# Make sure the image file is in the same directory as the Python script.\n",
    "image = tk.PhotoImage(file='sentiment analysis.png')\n",
    "image_label = ttk.Label(root, image=image)\n",
    "image_label.pack(pady=10)\n",
    "\n",
    "# Heading Label\n",
    "heading_label = ttk.Label(root, text=\"News Sentiment Analysis System\", font=(\"Helvetica\", 16, \"bold\"))\n",
    "heading_label.pack(pady=10)\n",
    "\n",
    "# Entry Label and Entry Box\n",
    "entry_label = ttk.Label(root, text=\"Enter headline for analysis:\", font=(\"Helvetica\", 12))\n",
    "entry_label.pack(pady=5)\n",
    "\n",
    "entry_var = tk.StringVar()\n",
    "entry_box = ttk.Entry(root, textvariable=entry_var, font=(\"Helvetica\", 12))\n",
    "entry_box.pack(pady=5)\n",
    "\n",
    "# Analyze Button\n",
    "analyze_button = ttk.Button(root, text=\"Analyze Sentiment\", command=analyze_sentiment)\n",
    "analyze_button.pack(pady=10)\n",
    "\n",
    "# Result Label to display the sentiment analysis result\n",
    "result_label = ttk.Label(root, text=\"\", font=(\"Helvetica\", 12))\n",
    "result_label.pack(pady=10)\n",
    "\n",
    "root.mainloop()\n"
   ]
  },
  {
   "cell_type": "code",
   "execution_count": null,
   "id": "67f50389-7feb-4a72-bacf-ebde645c9420",
   "metadata": {},
   "outputs": [],
   "source": []
  },
  {
   "cell_type": "code",
   "execution_count": null,
   "id": "4f8b82dd-569b-4ad5-b746-8adf41ed8b22",
   "metadata": {},
   "outputs": [],
   "source": []
  }
 ],
 "metadata": {
  "kernelspec": {
   "display_name": "Python 3 (ipykernel)",
   "language": "python",
   "name": "python3"
  },
  "language_info": {
   "codemirror_mode": {
    "name": "ipython",
    "version": 3
   },
   "file_extension": ".py",
   "mimetype": "text/x-python",
   "name": "python",
   "nbconvert_exporter": "python",
   "pygments_lexer": "ipython3",
   "version": "3.9.7"
  }
 },
 "nbformat": 4,
 "nbformat_minor": 5
}
